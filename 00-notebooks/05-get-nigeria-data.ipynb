{
 "cells": [
  {
   "cell_type": "code",
   "execution_count": 1,
   "metadata": {},
   "outputs": [
    {
     "name": "stdout",
     "output_type": "stream",
     "text": [
      "                           PRE nigeria-2018-08-21/\r\n"
     ]
    }
   ],
   "source": [
    "!aws s3 ls ga-africa-provisional"
   ]
  },
  {
   "cell_type": "code",
   "execution_count": 2,
   "metadata": {},
   "outputs": [
    {
     "name": "stdout",
     "output_type": "stream",
     "text": [
      "                           PRE collection2/\r\n"
     ]
    }
   ],
   "source": [
    "!aws s3 ls ga-africa-provisional/nigeria-2018-08-21/"
   ]
  },
  {
   "cell_type": "code",
   "execution_count": 3,
   "metadata": {},
   "outputs": [
    {
     "name": "stdout",
     "output_type": "stream",
     "text": [
      "                           PRE level2/\r\n"
     ]
    }
   ],
   "source": [
    "!aws s3 ls ga-africa-provisional/nigeria-2018-08-21/collection2/"
   ]
  },
  {
   "cell_type": "code",
   "execution_count": 4,
   "metadata": {},
   "outputs": [
    {
     "name": "stdout",
     "output_type": "stream",
     "text": [
      "                           PRE standard/\r\n"
     ]
    }
   ],
   "source": [
    "!aws s3 ls ga-africa-provisional/nigeria-2018-08-21/collection2/level2/"
   ]
  },
  {
   "cell_type": "code",
   "execution_count": 5,
   "metadata": {},
   "outputs": [
    {
     "name": "stdout",
     "output_type": "stream",
     "text": [
      "                           PRE oli-tirs/\r\n"
     ]
    }
   ],
   "source": [
    "!aws s3 ls ga-africa-provisional/nigeria-2018-08-21/collection2/level2/standard/"
   ]
  },
  {
   "cell_type": "code",
   "execution_count": 6,
   "metadata": {},
   "outputs": [
    {
     "name": "stdout",
     "output_type": "stream",
     "text": [
      "                           PRE 2018/\r\n"
     ]
    }
   ],
   "source": [
    "!aws s3 ls ga-africa-provisional/nigeria-2018-08-21/collection2/level2/standard/oli-tirs/"
   ]
  },
  {
   "cell_type": "code",
   "execution_count": 7,
   "metadata": {},
   "outputs": [
    {
     "name": "stdout",
     "output_type": "stream",
     "text": [
      "                           PRE 185/\r\n",
      "                           PRE 186/\r\n",
      "                           PRE 187/\r\n",
      "                           PRE 188/\r\n",
      "                           PRE 189/\r\n",
      "                           PRE 190/\r\n"
     ]
    }
   ],
   "source": [
    "!aws s3 ls ga-africa-provisional/nigeria-2018-08-21/collection2/level2/standard/oli-tirs/2018/"
   ]
  },
  {
   "cell_type": "code",
   "execution_count": 8,
   "metadata": {},
   "outputs": [
    {
     "name": "stdout",
     "output_type": "stream",
     "text": [
      "                           PRE 052/\r\n",
      "                           PRE 053/\r\n",
      "                           PRE 054/\r\n",
      "                           PRE 055/\r\n",
      "                           PRE 056/\r\n"
     ]
    }
   ],
   "source": [
    "!aws s3 ls ga-africa-provisional/nigeria-2018-08-21/collection2/level2/standard/oli-tirs/2018/185/"
   ]
  },
  {
   "cell_type": "code",
   "execution_count": 10,
   "metadata": {},
   "outputs": [
    {
     "name": "stdout",
     "output_type": "stream",
     "text": [
      "2019-08-30 00:49:16      15306 LC08_L2SP_185052_20180104_20190821_02_T1_MTL.txt\r\n",
      "2019-08-30 00:49:16      22581 LC08_L2SP_185052_20180104_20190821_02_T1_MTL.xml\r\n",
      "2019-08-30 00:49:17  118508098 LC08_L2SP_185052_20180104_20190821_02_T1_QA_PIXEL.TIF\r\n",
      "2019-08-30 00:49:17  118508098 LC08_L2SP_185052_20180104_20190821_02_T1_QA_RADSAT.TIF\r\n",
      "2019-08-30 00:49:18  118508098 LC08_L2SP_185052_20180104_20190821_02_T1_SR_B1.TIF\r\n",
      "2019-08-30 00:49:19  118508098 LC08_L2SP_185052_20180104_20190821_02_T1_SR_B2.TIF\r\n",
      "2019-08-30 00:49:20  118508098 LC08_L2SP_185052_20180104_20190821_02_T1_SR_B3.TIF\r\n",
      "2019-08-30 00:49:20  118508098 LC08_L2SP_185052_20180104_20190821_02_T1_SR_B4.TIF\r\n",
      "2019-08-30 00:49:21  118508098 LC08_L2SP_185052_20180104_20190821_02_T1_SR_B5.TIF\r\n",
      "2019-08-30 00:49:22  118508098 LC08_L2SP_185052_20180104_20190821_02_T1_SR_B6.TIF\r\n",
      "2019-08-30 00:49:23  118508098 LC08_L2SP_185052_20180104_20190821_02_T1_SR_B7.TIF\r\n",
      "2019-08-30 00:49:24   59285308 LC08_L2SP_185052_20180104_20190821_02_T1_SR_QA_AEROSOL.TIF\r\n",
      "2019-08-30 00:49:24  118508098 LC08_L2SP_185052_20180104_20190821_02_T1_ST_ATRAN.TIF\r\n",
      "2019-08-30 00:49:25  118508098 LC08_L2SP_185052_20180104_20190821_02_T1_ST_B10.TIF\r\n",
      "2019-08-30 00:49:26  118508098 LC08_L2SP_185052_20180104_20190821_02_T1_ST_CDIST.TIF\r\n",
      "2019-08-30 00:49:26  118508098 LC08_L2SP_185052_20180104_20190821_02_T1_ST_DRAD.TIF\r\n",
      "2019-08-30 00:49:28  118508098 LC08_L2SP_185052_20180104_20190821_02_T1_ST_EMIS.TIF\r\n",
      "2019-08-30 00:49:29  118508098 LC08_L2SP_185052_20180104_20190821_02_T1_ST_EMSD.TIF\r\n",
      "2019-08-30 00:49:29  118508098 LC08_L2SP_185052_20180104_20190821_02_T1_ST_QA.TIF\r\n",
      "2019-08-30 00:49:29  118508098 LC08_L2SP_185052_20180104_20190821_02_T1_ST_TRAD.TIF\r\n",
      "2019-08-30 00:49:31  118508098 LC08_L2SP_185052_20180104_20190821_02_T1_ST_URAD.TIF\r\n"
     ]
    }
   ],
   "source": [
    "!aws s3 ls ga-africa-provisional/nigeria-2018-08-21/collection2/level2/standard/oli-tirs/2018/185/052/LC08_L2SP_185052_20180104_20190821_02_T1/"
   ]
  },
  {
   "cell_type": "code",
   "execution_count": 12,
   "metadata": {},
   "outputs": [
    {
     "name": "stdout",
     "output_type": "stream",
     "text": [
      "download: s3://ga-africa-provisional/nigeria-2018-08-21/collection2/level2/standard/oli-tirs/2018/185/052/LC08_L2SP_185052_20180104_20190821_02_T1/LC08_L2SP_185052_20180104_20190821_02_T1_MTL.xml to data/in/LC08_L2SP_185052_20180104_20190821_02_T1_MTL.xml\n",
      "download: s3://ga-africa-provisional/nigeria-2018-08-21/collection2/level2/standard/oli-tirs/2018/185/052/LC08_L2SP_185052_20180104_20190821_02_T1/LC08_L2SP_185052_20180104_20190821_02_T1_MTL.txt to data/in/LC08_L2SP_185052_20180104_20190821_02_T1_MTL.txt\n",
      "download: s3://ga-africa-provisional/nigeria-2018-08-21/collection2/level2/standard/oli-tirs/2018/185/052/LC08_L2SP_185052_20180104_20190821_02_T1/LC08_L2SP_185052_20180104_20190821_02_T1_QA_PIXEL.TIF to data/in/LC08_L2SP_185052_20180104_20190821_02_T1_QA_PIXEL.TIF\n",
      "download: s3://ga-africa-provisional/nigeria-2018-08-21/collection2/level2/standard/oli-tirs/2018/185/052/LC08_L2SP_185052_20180104_20190821_02_T1/LC08_L2SP_185052_20180104_20190821_02_T1_QA_RADSAT.TIF to data/in/LC08_L2SP_185052_20180104_20190821_02_T1_QA_RADSAT.TIF\n",
      "download: s3://ga-africa-provisional/nigeria-2018-08-21/collection2/level2/standard/oli-tirs/2018/185/052/LC08_L2SP_185052_20180104_20190821_02_T1/LC08_L2SP_185052_20180104_20190821_02_T1_SR_B1.TIF to data/in/LC08_L2SP_185052_20180104_20190821_02_T1_SR_B1.TIF\n",
      "download: s3://ga-africa-provisional/nigeria-2018-08-21/collection2/level2/standard/oli-tirs/2018/185/052/LC08_L2SP_185052_20180104_20190821_02_T1/LC08_L2SP_185052_20180104_20190821_02_T1_SR_B2.TIF to data/in/LC08_L2SP_185052_20180104_20190821_02_T1_SR_B2.TIF\n",
      "download: s3://ga-africa-provisional/nigeria-2018-08-21/collection2/level2/standard/oli-tirs/2018/185/052/LC08_L2SP_185052_20180104_20190821_02_T1/LC08_L2SP_185052_20180104_20190821_02_T1_SR_B3.TIF to data/in/LC08_L2SP_185052_20180104_20190821_02_T1_SR_B3.TIF\n",
      "download: s3://ga-africa-provisional/nigeria-2018-08-21/collection2/level2/standard/oli-tirs/2018/185/052/LC08_L2SP_185052_20180104_20190821_02_T1/LC08_L2SP_185052_20180104_20190821_02_T1_SR_QA_AEROSOL.TIF to data/in/LC08_L2SP_185052_20180104_20190821_02_T1_SR_QA_AEROSOL.TIF\n",
      "download: s3://ga-africa-provisional/nigeria-2018-08-21/collection2/level2/standard/oli-tirs/2018/185/052/LC08_L2SP_185052_20180104_20190821_02_T1/LC08_L2SP_185052_20180104_20190821_02_T1_SR_B4.TIF to data/in/LC08_L2SP_185052_20180104_20190821_02_T1_SR_B4.TIF\n",
      "download: s3://ga-africa-provisional/nigeria-2018-08-21/collection2/level2/standard/oli-tirs/2018/185/052/LC08_L2SP_185052_20180104_20190821_02_T1/LC08_L2SP_185052_20180104_20190821_02_T1_ST_ATRAN.TIF to data/in/LC08_L2SP_185052_20180104_20190821_02_T1_ST_ATRAN.TIF\n",
      "download: s3://ga-africa-provisional/nigeria-2018-08-21/collection2/level2/standard/oli-tirs/2018/185/052/LC08_L2SP_185052_20180104_20190821_02_T1/LC08_L2SP_185052_20180104_20190821_02_T1_SR_B7.TIF to data/in/LC08_L2SP_185052_20180104_20190821_02_T1_SR_B7.TIF\n",
      "download: s3://ga-africa-provisional/nigeria-2018-08-21/collection2/level2/standard/oli-tirs/2018/185/052/LC08_L2SP_185052_20180104_20190821_02_T1/LC08_L2SP_185052_20180104_20190821_02_T1_SR_B5.TIF to data/in/LC08_L2SP_185052_20180104_20190821_02_T1_SR_B5.TIF\n",
      "download: s3://ga-africa-provisional/nigeria-2018-08-21/collection2/level2/standard/oli-tirs/2018/185/052/LC08_L2SP_185052_20180104_20190821_02_T1/LC08_L2SP_185052_20180104_20190821_02_T1_ST_B10.TIF to data/in/LC08_L2SP_185052_20180104_20190821_02_T1_ST_B10.TIF\n",
      "download: s3://ga-africa-provisional/nigeria-2018-08-21/collection2/level2/standard/oli-tirs/2018/185/052/LC08_L2SP_185052_20180104_20190821_02_T1/LC08_L2SP_185052_20180104_20190821_02_T1_ST_DRAD.TIF to data/in/LC08_L2SP_185052_20180104_20190821_02_T1_ST_DRAD.TIF\n",
      "download: s3://ga-africa-provisional/nigeria-2018-08-21/collection2/level2/standard/oli-tirs/2018/185/052/LC08_L2SP_185052_20180104_20190821_02_T1/LC08_L2SP_185052_20180104_20190821_02_T1_ST_EMIS.TIF to data/in/LC08_L2SP_185052_20180104_20190821_02_T1_ST_EMIS.TIF\n",
      "download: s3://ga-africa-provisional/nigeria-2018-08-21/collection2/level2/standard/oli-tirs/2018/185/052/LC08_L2SP_185052_20180104_20190821_02_T1/LC08_L2SP_185052_20180104_20190821_02_T1_SR_B6.TIF to data/in/LC08_L2SP_185052_20180104_20190821_02_T1_SR_B6.TIF\n",
      "download: s3://ga-africa-provisional/nigeria-2018-08-21/collection2/level2/standard/oli-tirs/2018/185/052/LC08_L2SP_185052_20180104_20190821_02_T1/LC08_L2SP_185052_20180104_20190821_02_T1_ST_EMSD.TIF to data/in/LC08_L2SP_185052_20180104_20190821_02_T1_ST_EMSD.TIF\n",
      "download: s3://ga-africa-provisional/nigeria-2018-08-21/collection2/level2/standard/oli-tirs/2018/185/052/LC08_L2SP_185052_20180104_20190821_02_T1/LC08_L2SP_185052_20180104_20190821_02_T1_ST_TRAD.TIF to data/in/LC08_L2SP_185052_20180104_20190821_02_T1_ST_TRAD.TIF\n",
      "download: s3://ga-africa-provisional/nigeria-2018-08-21/collection2/level2/standard/oli-tirs/2018/185/052/LC08_L2SP_185052_20180104_20190821_02_T1/LC08_L2SP_185052_20180104_20190821_02_T1_ST_QA.TIF to data/in/LC08_L2SP_185052_20180104_20190821_02_T1_ST_QA.TIF\n",
      "download: s3://ga-africa-provisional/nigeria-2018-08-21/collection2/level2/standard/oli-tirs/2018/185/052/LC08_L2SP_185052_20180104_20190821_02_T1/LC08_L2SP_185052_20180104_20190821_02_T1_ST_CDIST.TIF to data/in/LC08_L2SP_185052_20180104_20190821_02_T1_ST_CDIST.TIF\n",
      "download: s3://ga-africa-provisional/nigeria-2018-08-21/collection2/level2/standard/oli-tirs/2018/185/052/LC08_L2SP_185052_20180104_20190821_02_T1/LC08_L2SP_185052_20180104_20190821_02_T1_ST_URAD.TIF to data/in/LC08_L2SP_185052_20180104_20190821_02_T1_ST_URAD.TIF\n"
     ]
    }
   ],
   "source": [
    "!aws s3 cp s3://ga-africa-provisional/nigeria-2018-08-21/collection2/level2/standard/oli-tirs/2018/185/052/LC08_L2SP_185052_20180104_20190821_02_T1/ data/in --recur"
   ]
  },
  {
   "cell_type": "code",
   "execution_count": null,
   "metadata": {},
   "outputs": [],
   "source": []
  }
 ],
 "metadata": {
  "kernelspec": {
   "display_name": "Python 3",
   "language": "python",
   "name": "python3"
  },
  "language_info": {
   "codemirror_mode": {
    "name": "ipython",
    "version": 3
   },
   "file_extension": ".py",
   "mimetype": "text/x-python",
   "name": "python",
   "nbconvert_exporter": "python",
   "pygments_lexer": "ipython3",
   "version": "3.6.8"
  }
 },
 "nbformat": 4,
 "nbformat_minor": 2
}
