{
 "cells": [
  {
   "cell_type": "markdown",
   "metadata": {},
   "source": [
    "\n",
    "    https://raw.githubusercontent.com/digitalearthafrica/scripts/master/misc/collection2cog.py\n",
    "        \n",
    "        https://github.com/digitalearthafrica/scripts/blob/master/misc/collection2cog.py\n",
    "    "
   ]
  },
  {
   "cell_type": "code",
   "execution_count": 1,
   "metadata": {},
   "outputs": [
    {
     "name": "stdout",
     "output_type": "stream",
     "text": [
      "c8e4b20d-019e-42bc-aa5f-3a48d87a0183\n"
     ]
    },
    {
     "name": "stderr",
     "output_type": "stream",
     "text": [
      "/usr/local/lib/python3.6/dist-packages/eodatasets3/assemble.py:714: DatasetCompletenessWarning: non_geo: No geo information in dataset\n",
      "  warnings.warn(DatasetCompletenessWarning(m))\n",
      "/usr/local/lib/python3.6/dist-packages/eodatasets3/assemble.py:714: DatasetCompletenessWarning: global_file_format: Property 'odc:file_format' is empty (Hint: Usually 'GeoTIFF')\n",
      "  warnings.warn(DatasetCompletenessWarning(m))\n"
     ]
    }
   ],
   "source": [
    "\n",
    "\n",
    "from datetime import datetime\n",
    "from pathlib import Path\n",
    "\n",
    "from eodatasets3.assemble import DatasetAssembler\n",
    "from eodatasets3.prepare.landsat_l1_prepare import get_mtl_content\n",
    "\n",
    "LANDSAT_OLI_TIRS_BAND_ALIASES = {\n",
    "    \"1\": \"coastal_aerosol\",\n",
    "    \"2\": \"blue\",\n",
    "    \"3\": \"green\",\n",
    "    \"4\": \"red\",\n",
    "    \"5\": \"nir\",\n",
    "    \"6\": \"swir_1\",\n",
    "    \"7\": \"swir_2\",\n",
    "    \"st_b10\": \"st_b10\",\n",
    "    \"thermal_radiance\": \"thermal_radiance\",\n",
    "    \"upwell_radiance\": \"upwell_radiance\",\n",
    "    \"downwell_radiance\": \"downwell_radiance\",\n",
    "    \"atmospheric_transmittance\": \"atmospheric_transmittance\",\n",
    "    \"emissivity\": \"emissivity\",\n",
    "    \"emissivity_stdev\": \"emissivity_stdev\",\n",
    "    \"cloud_distance\": \"cloud_distance\",\n",
    "    \"quality_l2_aerosol\": \"quality_l2_aerosol\",\n",
    "    \"quality_l2_surface_temperature\": \"quality_l2_surface_temperature\",\n",
    "    \"quality_l1_pixel\": \"quality_l1_pixel\",\n",
    "    \"quality_l1_radiometric_saturation\": \"quality_l1_radiometric_saturation\",\n",
    "    \"metadata_odl\": \"metadata_odl\",\n",
    "    \"metadata_xml\": \"metadata_xml\",\n",
    "}\n",
    "\n",
    "# Ensure output path exists\n",
    "output_location = Path(\"/notebooks/opt/eoi/00-notebooks/data/\")\n",
    "output_location.mkdir(parents=True, exist_ok=True)\n",
    "\n",
    "# adir = \"/g/data/u46/users/dsg547/test_data/collection2/LC08_L2SP_185052_20180104_20190821_02_T1/\"\n",
    "# adir = 's3://ga-africa-provisional/nigeria-2018-08-21/collection2/level2/standard/oli-tirs/2018/185/052/LC08_L2SP_185052_20180104_20190821_02_T1/'\n",
    "adir = './data/in'\n",
    "acquisition_path = Path(adir)\n",
    "\n",
    "#acquisition_path.exists()\n",
    "\n",
    "paths = list(acquisition_path.rglob(\"*_MTL.txt\"))\n",
    "\n",
    "mtl, _  = get_mtl_content(acquisition_path, root_element=\"landsat_metadata_file\")\n",
    "\n",
    "#print (mtl)\n",
    "\n",
    "\n",
    "with DatasetAssembler(output_location, naming_conventions=\"dea\") as p:\n",
    "    p.properties['eo:instrument'] = mtl['image_attributes']['sensor_id']  # 'OLI_TIRS'\n",
    "    p.properties['eo:platform'] = mtl['image_attributes']['spacecraft_id'].lower()  # 'landsat_8'\n",
    "    p.properties['odc:dataset_version'] = '0.0.1'\n",
    "\n",
    "    p.properties['odc:processing_datetime'] = mtl['level2_processing_record']['date_product_generated']\n",
    "\n",
    "    p.properties['odc:producer'] = \"usgs.gov\" #mtl['product_contents']['origin']\n",
    "    p.properties['odc:product_family'] = mtl['product_contents']['processing_level'].lower()  # 'l2sp'\n",
    "    apath = int(mtl['image_attributes']['wrs_path'])\n",
    "    arow = int(mtl['image_attributes']['wrs_row'])\n",
    "    p.properties['odc:region_code'] = f\"{apath:03d}{arow:03d}\"\n",
    "\n",
    "    dt_string = mtl['image_attributes']['date_acquired'] + ' ' + mtl['image_attributes']['scene_center_time'][:-2]\n",
    "    p.datetime = datetime.strptime(dt_string, '%Y-%m-%d %H:%M:%S.%f')\n",
    "    p.properties['landsat:landsat_scene_id'] = mtl['level1_processing_record']['landsat_scene_id']\n",
    "    # p.write_measurement('b1', '/g/data/u46/users/dsg547/test_data/collection2/LC08_L2SP_185052_20180104_20190821_02_T1/LC08_L2SP_185052_20180104_20190821_02_T1_SR_B1.TIF')\n",
    "\n",
    "    LANDSAT_OLI_TIRS_BAND_ALIASES\n",
    "\n",
    "\n",
    "    dataset_id, metadata_path = p.done()\n",
    "    print (dataset_id)"
   ]
  },
  {
   "cell_type": "code",
   "execution_count": 2,
   "metadata": {},
   "outputs": [
    {
     "data": {
      "text/plain": [
       "PosixPath('/notebooks/opt/eoi/00-notebooks/data/usgs_ls8c_l2sp/185/052/2018/01/04/usgs_ls8c_l2sp_0-0-1_185052_2018-01-04.odc-metadata.yaml')"
      ]
     },
     "execution_count": 2,
     "metadata": {},
     "output_type": "execute_result"
    }
   ],
   "source": [
    "metadata_path"
   ]
  },
  {
   "cell_type": "code",
   "execution_count": 4,
   "metadata": {},
   "outputs": [
    {
     "name": "stdout",
     "output_type": "stream",
     "text": [
      "---\r\n",
      "# Dataset\r\n",
      "$schema: https://schemas.opendatacube.org/dataset\r\n",
      "id: c8e4b20d-019e-42bc-aa5f-3a48d87a0183\r\n",
      "\r\n",
      "label: usgs_ls8c_l2sp_0-0-1_185052_2018-01-04\r\n",
      "product:\r\n",
      "  name: usgs_ls8c_l2sp\r\n",
      "  href: https://collections.dea.ga.gov.au/product/usgs_ls8c_l2sp\r\n",
      "\r\n",
      "properties:\r\n",
      "  datetime: 2018-01-04 09:24:47.733834Z\r\n",
      "  eo:instrument: OLI_TIRS\r\n",
      "  eo:platform: landsat-8\r\n",
      "  landsat:landsat_scene_id: LC81850522018004LGN00\r\n",
      "  odc:dataset_version: 0.0.1\r\n",
      "  odc:processing_datetime: 2019-08-21 21:40:22Z\r\n",
      "  odc:producer: usgs.gov\r\n",
      "  odc:product_family: l2sp\r\n",
      "  odc:region_code: '185052'\r\n",
      "\r\n",
      "accessories:\r\n",
      "  checksum:sha1:\r\n",
      "    path: usgs_ls8c_l2sp_0-0-1_185052_2018-01-04.sha1\r\n",
      "  metadata:processor:\r\n",
      "    path: usgs_ls8c_l2sp_0-0-1_185052_2018-01-04.proc-info.yaml\r\n",
      "\r\n",
      "lineage: {}\r\n",
      "...\r\n"
     ]
    }
   ],
   "source": [
    "!cat /notebooks/opt/eoi/00-notebooks/data/usgs_ls8c_l2sp/185/052/2018/01/04/usgs_ls8c_l2sp_0-0-1_185052_2018-01-04.odc-metadata.yaml"
   ]
  },
  {
   "cell_type": "code",
   "execution_count": 10,
   "metadata": {},
   "outputs": [
    {
     "name": "stdout",
     "output_type": "stream",
     "text": [
      "---\n",
      "# Dataset\n",
      "$schema: https://schemas.opendatacube.org/dataset\n",
      "id: 3d5d8b9c-c284-56b5-9b5f-a7567962d392\n",
      "\n",
      "label: usgs_ls8c_level2_2-0-20190911_157070_2015-11-08\n",
      "product:\n",
      "  name: usgs_ls8c_level2_2\n",
      "  href: https://collections.dea.ga.gov.au/product/usgs_ls8c_level2_2\n",
      "\n",
      "crs: epsg:32639\n",
      "geometry:\n",
      "  type: Polygon\n",
      "  coordinates: [[[241785.0, -1481685.0], [241785.0, -1715415.0], [482415.0, -1715415.0],\n",
      "      [482415.0, -1481685.0], [241785.0, -1481685.0]]]\n",
      "grids:\n",
      "  default:\n",
      "    shape: [7791, 8021]\n",
      "    transform: [30.0, 0.0, 241785.0, 0.0, -30.0, -1481685.0, 0.0, 0.0, 1.0]\n",
      "\n",
      "properties:\n",
      "  datetime: 2015-11-08 06:38:57.875828Z\n",
      "  eo:cloud_cover: 68.37\n",
      "  eo:gsd: 30.0  # Ground sample distance (m)\n",
      "  eo:instrument: OLI_TIRS\n",
      "  eo:platform: landsat-8\n",
      "  eo:sun_azimuth: 98.06121879\n",
      "  eo:sun_elevation: 64.46336127\n",
      "  landsat:collection_number: 2\n",
      "  landsat:geometric_rmse_model_x: 4.688\n",
      "  landsat:geometric_rmse_model_y: 6.009\n",
      "  landsat:geometric_rmse_verify: 7.144\n",
      "  landsat:ground_control_points_model: 513\n",
      "  landsat:ground_control_points_verify: 147\n",
      "  landsat:ground_control_points_version: 51\n",
      "  landsat:landsat_product_id: LC08_L1TP_157070_20151108_20190911_02_T1\n",
      "  landsat:landsat_scene_id: LC81570702015312LGN01\n",
      "  landsat:processing_software_version: LPGS_Unknown\n",
      "  landsat:station_id: LGN\n",
      "  landsat:wrs_path: 157\n",
      "  landsat:wrs_row: 70\n",
      "  odc:dataset_version: 2.0.20190911\n",
      "  odc:file_format: GeoTIFF\n",
      "  odc:processing_datetime: 2019-09-11 20:39:46Z\n",
      "  odc:producer: usgs.gov\n",
      "  odc:product_family: level2\n",
      "  odc:region_code: '157070'\n",
      "\n",
      "measurements:\n",
      "  coastal_aerosol:\n",
      "    path: usgs_ls8c_level2_2-0-20190911_157070_2015-11-08_sr-b1.tif\n",
      "  blue:\n",
      "    path: usgs_ls8c_level2_2-0-20190911_157070_2015-11-08_sr-b2.tif\n",
      "  green:\n",
      "    path: usgs_ls8c_level2_2-0-20190911_157070_2015-11-08_sr-b3.tif\n",
      "  red:\n",
      "    path: usgs_ls8c_level2_2-0-20190911_157070_2015-11-08_sr-b4.tif\n",
      "  nir:\n",
      "    path: usgs_ls8c_level2_2-0-20190911_157070_2015-11-08_sr-b5.tif\n",
      "  swir_1:\n",
      "    path: usgs_ls8c_level2_2-0-20190911_157070_2015-11-08_sr-b6.tif\n",
      "  swir_2:\n",
      "    path: usgs_ls8c_level2_2-0-20190911_157070_2015-11-08_sr-b7.tif\n",
      "  surface_temperature:\n",
      "    path: usgs_ls8c_level2_2-0-20190911_157070_2015-11-08_st-b10.tif\n",
      "  thermal_radiance:\n",
      "    path: usgs_ls8c_level2_2-0-20190911_157070_2015-11-08_thermal-radiance.tif\n",
      "  upwell_radiance:\n",
      "    path: usgs_ls8c_level2_2-0-20190911_157070_2015-11-08_upwell-radiance.tif\n",
      "  downwell_radiance:\n",
      "    path: usgs_ls8c_level2_2-0-20190911_157070_2015-11-08_downwell-radiance.tif\n",
      "  atmospheric_transmittance:\n",
      "    path: usgs_ls8c_level2_2-0-20190911_157070_2015-11-08_atmospheric-transmittance.tif\n",
      "  emissivity:\n",
      "    path: usgs_ls8c_level2_2-0-20190911_157070_2015-11-08_emissivity.tif\n",
      "  emissivity_stdev:\n",
      "    path: usgs_ls8c_level2_2-0-20190911_157070_2015-11-08_emissivity-stdev.tif\n",
      "  cloud_distance:\n",
      "    path: usgs_ls8c_level2_2-0-20190911_157070_2015-11-08_cloud-distance.tif\n",
      "  quality_l2_aerosol:\n",
      "    path: usgs_ls8c_level2_2-0-20190911_157070_2015-11-08_quality-l2-aerosol.tif\n",
      "  quality_l2_surface_temperature:\n",
      "    path: usgs_ls8c_level2_2-0-20190911_157070_2015-11-08_quality-l2-surface-temperature.tif\n",
      "  quality_l1_pixel:\n",
      "    path: usgs_ls8c_level2_2-0-20190911_157070_2015-11-08_quality-l1-pixel.tif\n",
      "  quality_l1_radiometric_saturation:\n",
      "    path: usgs_ls8c_level2_2-0-20190911_157070_2015-11-08_quality-l1-radiometric-saturation.tif\n",
      "\n",
      "accessories:\n",
      "  metadata:landsat_mtl:\n",
      "    path: LC08_L2SP_157070_20151108_20190911_02_T1_MTL.txt\n",
      "  checksum:sha1:\n",
      "    path: usgs_ls8c_level2_2-0-20190911_157070_2015-11-08.sha1\n",
      "  metadata:processor:\n",
      "    path: usgs_ls8c_level2_2-0-20190911_157070_2015-11-08.proc-info.yaml\n",
      "\n",
      "lineage: {}\n",
      "...\n"
     ]
    }
   ],
   "source": [
    "%%bash\n",
    "#ls\n",
    "bucket_name=deafrica-usgs-c2-data\n",
    "path=usgs_ls8c_level2_2/157/070/2015/11/08/usgs_ls8c_level2_2-0-20190911_157070_2015-11-08.odc-metadata.yaml\n",
    "\n",
    "aws s3 cp s3://${bucket_name}/${path} -"
   ]
  },
  {
   "cell_type": "code",
   "execution_count": null,
   "metadata": {},
   "outputs": [],
   "source": []
  }
 ],
 "metadata": {
  "kernelspec": {
   "display_name": "Python 3",
   "language": "python",
   "name": "python3"
  },
  "language_info": {
   "codemirror_mode": {
    "name": "ipython",
    "version": 3
   },
   "file_extension": ".py",
   "mimetype": "text/x-python",
   "name": "python",
   "nbconvert_exporter": "python",
   "pygments_lexer": "ipython3",
   "version": "3.6.8"
  }
 },
 "nbformat": 4,
 "nbformat_minor": 2
}
